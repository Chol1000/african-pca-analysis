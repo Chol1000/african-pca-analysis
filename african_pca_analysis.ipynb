{
  "cells": [
    {
      "cell_type": "markdown",
      "metadata": {
        "id": "JqkivgEHr_KW"
      },
      "source": [
        "# Formative Assignment: Advanced Linear Algebra (PCA)\n",
        "This notebook will guide you through the implementation of Principal Component Analysis (PCA). Fill in the missing code and provide the required answers in the appropriate sections. You will work with a dataset that is Africanized .\n",
        "\n",
        "Make sure to display outputs for each code cell when submitting."
      ]
    },
    {
      "cell_type": "markdown",
      "metadata": {
        "id": "xycIp758r_Kb"
      },
      "source": [
        "### Step 1: Load and Standardize the Data\n",
        "Before applying PCA, we must standardize the dataset. Standardization ensures that all features have a mean of 0 and a standard deviation of 1, which is essential for PCA.\n",
        "Fill in the code to standardize the dataset.\n",
        "\n",
        "STRICTLY - Write code that implements standardization based on the image below\n",
        "\n",
        "<img src='data:image/jpeg;base64,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'/>\n"
      ]
    },
    {
      "cell_type": "code",
      "execution_count": 1,
      "metadata": {
        "id": "BKihXBaBr_Kc",
        "colab": {
          "base_uri": "https://localhost:8080/"
        },
        "outputId": "1bd232d4-67bf-4f47-c0e8-221b37702f63"
      },
      "outputs": [
        {
          "output_type": "stream",
          "name": "stdout",
          "text": [
            "Original African Economic Data:\n",
            "Shape: (200, 14)\n",
            "Features: 14 (>10 required: ✅)\n",
            "\n",
            "Standardized data shape: (200, 14)\n",
            "First 5 rows of standardized data:\n"
          ]
        },
        {
          "output_type": "execute_result",
          "data": {
            "text/plain": [
              "array([[ 0.14987211,  0.18597406, -0.33532513,  0.75556637,  0.13581077,\n",
              "         0.31490549, -0.67777745, -0.76112855, -0.10184802,  0.36686065,\n",
              "        -0.21517358, -0.59479574, -0.08539565,  0.25708045],\n",
              "       [ 0.34264173, -1.18286694,  0.90224534,  0.74209361,  0.93199698,\n",
              "         1.59958191, -0.55404987, -0.69338554, -1.1756789 ,  1.06453335,\n",
              "         0.52580285,  0.23736715,  0.56022788, -1.040753  ],\n",
              "       [ 1.31149541, -1.31086848,  1.19241142,  0.96257799,  1.76612077,\n",
              "         1.8418265 , -0.97822173, -0.3009672 , -0.5501596 ,  1.79995887,\n",
              "         1.39191443,  0.08299226, -0.29297172, -1.32962184],\n",
              "       [-0.17160741, -0.74089896,  0.64907711, -0.17830462,  0.19501228,\n",
              "         0.59003883,  0.28027283,  0.04785031, -0.73470604,  0.13260574,\n",
              "         0.20902786,  0.58346399,  0.58891989, -0.67057951],\n",
              "       [-1.67379614, -1.65735326,  1.54091583, -1.86295406, -0.76299776,\n",
              "         0.392232  ,  2.16526591,  0.92729256, -2.00453772, -1.16353137,\n",
              "        -0.18567614,  2.3363161 ,  2.27685513, -1.45524554]])"
            ]
          },
          "metadata": {},
          "execution_count": 1
        }
      ],
      "source": [
        "# Step 1: Load and Standardize the data (use of numpy only allowed)\n",
        "import numpy as np\n",
        "import pandas as pd\n",
        "\n",
        "# Create African Economic Dataset (14 features)\n",
        "np.random.seed(42)\n",
        "n_samples = 200\n",
        "\n",
        "# Create correlated data for meaningful PCA\n",
        "base_factors = np.random.randn(n_samples, 3)\n",
        "weights = np.random.randn(3, 14)\n",
        "correlated_data = base_factors @ weights\n",
        "\n",
        "# Scale to realistic African economic ranges\n",
        "scales = np.array([3.0, 8.0, 12.0, 5.0, 40.0, 8.0, 6.0, 25.0, 20.0, 30.0, 10.0, 15.0, 15.0, 300.0])\n",
        "means = np.array([4.5, 12.0, 15.0, 3.0, 65.0, -5.0, 8.0, 25.0, 30.0, 45.0, 65.0, 70.0, 35.0, 800.0])\n",
        "data_array = correlated_data * scales + means\n",
        "\n",
        "# Create DataFrame with feature names\n",
        "data = pd.DataFrame(data_array, columns=[\n",
        "    'GDP_Growth_Rate', 'Inflation_Rate', 'Unemployment_Rate', 'Foreign_Direct_Investment',\n",
        "    'Government_Debt_GDP', 'Trade_Balance', 'Remittances_GDP', 'Agriculture_Contribution',\n",
        "    'Industry_Contribution', 'Services_Contribution', 'Life_Expectancy', 'Literacy_Rate',\n",
        "    'Internet_Penetration', 'Energy_Consumption'\n",
        "])\n",
        "\n",
        "print(\"Original African Economic Data:\")\n",
        "print(f\"Shape: {data.shape}\")\n",
        "print(f\"Features: {data.shape[1]} (>10 required: ✅)\")\n",
        "\n",
        "# STANDARDIZATION: z = (x - μ) / σ\n",
        "data_array = data.values  # Convert to numpy array\n",
        "mean = np.mean(data_array, axis=0)  # Calculate mean (μ) for each feature\n",
        "std = np.std(data_array, axis=0)    # Calculate standard deviation (σ) for each feature\n",
        "standardized_data = (data_array - mean) / std  # Apply standardization formula\n",
        "\n",
        "print(\"\\nStandardized data shape:\", standardized_data.shape)\n",
        "print(\"First 5 rows of standardized data:\")\n",
        "standardized_data[:5]"
      ]
    },
    {
      "cell_type": "markdown",
      "metadata": {
        "id": "Fybn40Syr_Kd"
      },
      "source": [
        "### Step 3: Calculate the Covariance Matrix\n",
        "The covariance matrix helps us understand how the features are related to each other. It is a key component in PCA."
      ]
    },
    {
      "cell_type": "code",
      "execution_count": 2,
      "metadata": {
        "id": "RbklA9tqr_Ke",
        "colab": {
          "base_uri": "https://localhost:8080/"
        },
        "outputId": "efa6fe54-07df-4f12-9073-8bddf415b530"
      },
      "outputs": [
        {
          "output_type": "stream",
          "name": "stdout",
          "text": [
            "Covariance matrix shape: (14, 14)\n",
            "Covariance matrix:\n"
          ]
        },
        {
          "output_type": "execute_result",
          "data": {
            "text/plain": [
              "array([[ 1.00502513, -0.13110059,  0.22807314,  0.48404961,  0.90148228,\n",
              "         0.41694995, -0.64811018,  0.11215628,  0.51349108,  0.88309483,\n",
              "         0.80387737, -0.31836315, -0.82465163, -0.25806929],\n",
              "       [-0.13110059,  1.00502513, -0.97295745,  0.24892668, -0.54193649,\n",
              "        -0.78690605, -0.28827244, -0.31886691,  0.66951648, -0.39282439,\n",
              "        -0.62229026, -0.75919332, -0.42712131,  0.98815879],\n",
              "       [ 0.22807314, -0.97295745,  1.00502513, -0.37656523,  0.58238884,\n",
              "         0.67052489,  0.3623197 ,  0.53367162, -0.48557087,  0.3761993 ,\n",
              "         0.74573294,  0.80825767,  0.27800093, -0.99941312],\n",
              "       [ 0.48404961,  0.24892668, -0.37656523,  1.00502513,  0.39774766,\n",
              "         0.41047584, -0.97814864, -0.82002363,  0.11890598,  0.65653488,\n",
              "        -0.02385144, -0.82077814, -0.40406388,  0.28281273],\n",
              "       [ 0.90148228, -0.54193649,  0.58238884,  0.39774766,  1.00502513,\n",
              "         0.75257017, -0.50068037,  0.11850292,  0.09189871,  0.95759575,\n",
              "         0.90741783, -0.00172105, -0.48653831, -0.62615718],\n",
              "       [ 0.41694995, -0.78690605,  0.67052489,  0.41047584,  0.75257017,\n",
              "         1.00502513, -0.35156309, -0.23747025, -0.56956899,  0.78111816,\n",
              "         0.55498654,  0.19011269,  0.16046579, -0.7456236 ],\n",
              "       [-0.64811018, -0.28827244,  0.3623197 , -0.97814864, -0.50068037,\n",
              "        -0.35156309,  1.00502513,  0.675905  , -0.31508811, -0.72437667,\n",
              "        -0.12154951,  0.84498007,  0.60165526, -0.27975974],\n",
              "       [ 0.11215628, -0.31886691,  0.53367162, -0.82002363,  0.11850292,\n",
              "        -0.23747025,  0.675905  ,  1.00502513,  0.24765057, -0.18441549,\n",
              "         0.53509886,  0.68997783, -0.11455314, -0.44474716],\n",
              "       [ 0.51349108,  0.66951648, -0.48557087,  0.11890598,  0.09189871,\n",
              "        -0.56956899, -0.31508811,  0.24765057,  1.00502513,  0.07321157,\n",
              "         0.1577343 , -0.53732488, -0.90682546,  0.52309908],\n",
              "       [ 0.88309483, -0.39282439,  0.3761993 ,  0.65653488,  0.95759575,\n",
              "         0.78111816, -0.72437667, -0.18441549,  0.07321157,  1.00502513,\n",
              "         0.73449807, -0.25104651, -0.49760761, -0.44497977],\n",
              "       [ 0.80387737, -0.62229026,  0.74573294, -0.02385144,  0.90741783,\n",
              "         0.55498654, -0.12154951,  0.53509886,  0.1577343 ,  0.73449807,\n",
              "         1.00502513,  0.3171495 , -0.43912848, -0.74516653],\n",
              "       [-0.31836315, -0.75919332,  0.80825767, -0.82077814, -0.00172105,\n",
              "         0.19011269,  0.84498007,  0.68997783, -0.53732488, -0.25104651,\n",
              "         0.3171495 ,  1.00502513,  0.5948607 , -0.75688746],\n",
              "       [-0.82465163, -0.42712131,  0.27800093, -0.40406388, -0.48653831,\n",
              "         0.16046579,  0.60165526, -0.11455314, -0.90682546, -0.49760761,\n",
              "        -0.43912848,  0.5948607 ,  1.00502513, -0.27943839],\n",
              "       [-0.25806929,  0.98815879, -0.99941312,  0.28281273, -0.62615718,\n",
              "        -0.7456236 , -0.27975974, -0.44474716,  0.52309908, -0.44497977,\n",
              "        -0.74516653, -0.75688746, -0.27943839,  1.00502513]])"
            ]
          },
          "metadata": {},
          "execution_count": 2
        }
      ],
      "source": [
        "# Step 3: Calculate the Covariance Matrix\n",
        "n_samples = standardized_data.shape[0]\n",
        "cov_matrix = np.dot(standardized_data.T, standardized_data) / (n_samples - 1)\n",
        "\n",
        "print(\"Covariance matrix shape:\", cov_matrix.shape)\n",
        "print(\"Covariance matrix:\")\n",
        "cov_matrix"
      ]
    },
    {
      "cell_type": "markdown",
      "metadata": {
        "id": "dWzqXsR0r_Ke"
      },
      "source": [
        "### Step 4: Perform Eigendecomposition\n",
        "Eigendecomposition of the covariance matrix will give us the eigenvalues and eigenvectors, which are essential for PCA.\n",
        "Fill in the code to compute the eigenvalues and eigenvectors of the covariance matrix."
      ]
    },
    {
      "cell_type": "code",
      "execution_count": 3,
      "metadata": {
        "id": "8Tm0rzdAr_Ke",
        "colab": {
          "base_uri": "https://localhost:8080/"
        },
        "outputId": "c303f16e-a2a5-4821-8c24-13ce29bf9272"
      },
      "outputs": [
        {
          "output_type": "stream",
          "name": "stdout",
          "text": [
            "Eigenvalues shape: (14,)\n",
            "Eigenvectors shape: (14, 14)\n",
            "\n",
            "Eigenvalues (first 10):\n",
            "λ1: -0.000000\n",
            "λ2: -0.000000\n",
            "λ3: 0.000000\n",
            "λ4: 0.000000\n",
            "λ5: 0.000000\n",
            "λ6: 0.000000\n",
            "λ7: 0.000000\n",
            "λ8: 2.597836\n",
            "λ9: 5.427125\n",
            "λ10: 6.045391\n",
            "\n",
            "First eigenvector (corresponding to smallest eigenvalue):\n",
            "[-0.52949352 -0.40608576  0.23240244 -0.21107756  0.13762776 -0.19383226\n",
            " -0.12649924  0.03386016  0.21234005  0.33190099  0.03999921 -0.36183452\n",
            "  0.09034347  0.29423248]\n"
          ]
        }
      ],
      "source": [
        "# Step 4: Perform Eigendecomposition\n",
        "# Use eigh for symmetric covariance matrices (more stable and efficient)\n",
        "eigenvalues, eigenvectors = np.linalg.eigh(cov_matrix)\n",
        "\n",
        "print(\"Eigenvalues shape:\", eigenvalues.shape)\n",
        "print(\"Eigenvectors shape:\", eigenvectors.shape)\n",
        "print(\"\\nEigenvalues (first 10):\")\n",
        "for i, val in enumerate(eigenvalues[-10:]):  # eigh returns in ascending order\n",
        "    print(f\"λ{i+1}: {val:.6f}\")\n",
        "print(\"\\nFirst eigenvector (corresponding to smallest eigenvalue):\")\n",
        "print(eigenvectors[:, 0])"
      ]
    },
    {
      "cell_type": "markdown",
      "metadata": {
        "id": "bp6o_4sTr_Kf"
      },
      "source": [
        "### Step 5: Sort Principal Components\n",
        "Sort the eigenvectors based on their corresponding eigenvalues in descending order. The higher the eigenvalue, the more important the eigenvector.\n",
        "Complete the code to sort the eigenvectors and print the sorted components.\n",
        "\n",
        "<a url ='https://www.youtube.com/watch?v=vaF-1xUEXsA&t=17s'>How Is Explained Variance Used In PCA?'<a/>"
      ]
    },
    {
      "cell_type": "code",
      "execution_count": 4,
      "metadata": {
        "id": "jpfoRz-Xr_Kf",
        "colab": {
          "base_uri": "https://localhost:8080/"
        },
        "outputId": "a12ae13c-f2be-4835-8dee-2208e425c95e"
      },
      "outputs": [
        {
          "output_type": "stream",
          "name": "stdout",
          "text": [
            "Sorted eigenvalues (descending order):\n",
            "PC1: 6.045391\n",
            "PC2: 5.427125\n",
            "PC3: 2.597836\n",
            "PC4: 0.000000\n",
            "PC5: 0.000000\n",
            "PC6: 0.000000\n",
            "PC7: 0.000000\n",
            "PC8: 0.000000\n",
            "PC9: -0.000000\n",
            "PC10: -0.000000\n",
            "PC11: -0.000000\n",
            "PC12: -0.000000\n",
            "PC13: -0.000000\n",
            "PC14: -0.000000\n",
            "\n",
            "Explained variance ratio:\n",
            "PC1: 0.4297 (42.97%)\n",
            "PC2: 0.3857 (38.57%)\n",
            "PC3: 0.1846 (18.46%)\n",
            "PC4: 0.0000 (0.00%)\n",
            "PC5: 0.0000 (0.00%)\n",
            "PC6: 0.0000 (0.00%)\n",
            "PC7: 0.0000 (0.00%)\n",
            "PC8: 0.0000 (0.00%)\n",
            "PC9: -0.0000 (-0.00%)\n",
            "PC10: -0.0000 (-0.00%)\n",
            "PC11: -0.0000 (-0.00%)\n",
            "PC12: -0.0000 (-0.00%)\n",
            "PC13: -0.0000 (-0.00%)\n",
            "PC14: -0.0000 (-0.00%)\n",
            "\n",
            "Cumulative explained variance:\n",
            "PC1: 0.4297 (42.97%)\n",
            "PC2: 0.8154 (81.54%)\n",
            "PC3: 1.0000 (100.00%)\n",
            "PC4: 1.0000 (100.00%)\n",
            "PC5: 1.0000 (100.00%)\n",
            "PC6: 1.0000 (100.00%)\n",
            "PC7: 1.0000 (100.00%)\n",
            "PC8: 1.0000 (100.00%)\n",
            "PC9: 1.0000 (100.00%)\n",
            "PC10: 1.0000 (100.00%)\n",
            "PC11: 1.0000 (100.00%)\n",
            "PC12: 1.0000 (100.00%)\n",
            "PC13: 1.0000 (100.00%)\n",
            "PC14: 1.0000 (100.00%)\n",
            "\n",
            "Sorted eigenvectors (each column is a principal component):\n"
          ]
        },
        {
          "output_type": "execute_result",
          "data": {
            "text/plain": [
              "array([[-0.19371044,  0.34967907, -0.21000987,  0.19201208,  0.14014133,\n",
              "        -0.32483595,  0.04007873, -0.28179959,  0.13488362, -0.17125125,\n",
              "        -0.05473142, -0.08545041,  0.4635423 , -0.52949352],\n",
              "       [ 0.37957665,  0.12628895, -0.13516025,  0.38543592, -0.279579  ,\n",
              "         0.00756132,  0.08873749,  0.41886098,  0.03973846, -0.01563482,\n",
              "         0.09493433, -0.33422516, -0.35235614, -0.40608576],\n",
              "       [-0.38953099, -0.12629193, -0.02122838,  0.39404326, -0.29262518,\n",
              "        -0.03097217,  0.21675841,  0.07069274, -0.22996102,  0.43512927,\n",
              "         0.27271816, -0.23934694,  0.33186169,  0.23240244],\n",
              "       [ 0.04470669,  0.37106267,  0.30753337, -0.19304067,  0.06972466,\n",
              "        -0.27954062, -0.00382273,  0.33073676, -0.14585129,  0.42564452,\n",
              "         0.26459558,  0.46766788,  0.01851402, -0.21107756],\n",
              "       [-0.32215795,  0.26132153, -0.05186134,  0.27759648, -0.28041678,\n",
              "        -0.19027936, -0.12417771, -0.02425297, -0.04138919,  0.10093968,\n",
              "        -0.63683287,  0.24768578, -0.34580365,  0.13762776],\n",
              "       [-0.32598727,  0.11478145,  0.33474254,  0.22505846,  0.32784352,\n",
              "         0.44817659, -0.41922413,  0.17990112, -0.34467864, -0.15463513,\n",
              "        -0.0149412 , -0.14414947, -0.01039668, -0.19383226],\n",
              "       [-0.03002597, -0.41115638, -0.17779644, -0.00681346,  0.02485268,\n",
              "        -0.10242237, -0.58371525,  0.31659785,  0.40798048,  0.30926526,\n",
              "        -0.14105321,  0.00937833,  0.21964994, -0.12649924],\n",
              "       [-0.16086465, -0.1853122 , -0.50488642, -0.13448182,  0.0834558 ,\n",
              "        -0.39166651, -0.14944706,  0.22254063, -0.53190066, -0.30654718,\n",
              "         0.18227883,  0.06449827, -0.13834165,  0.03386016],\n",
              "       [ 0.15117932,  0.22726527, -0.47516672,  0.2852633 ,  0.56539245,\n",
              "         0.17482366, -0.02515232, -0.15352812,  0.05495566,  0.37377221,\n",
              "         0.12239586,  0.07501432, -0.1883595 ,  0.21234005],\n",
              "       [-0.25742389,  0.32920958,  0.07903813,  0.03628174, -0.11955642,\n",
              "        -0.16628219, -0.29634167,  0.02077579,  0.45834903, -0.26991418,\n",
              "         0.49604895, -0.10690967, -0.19237223,  0.33190099],\n",
              "       [-0.35010164,  0.13511274, -0.25199007, -0.19639639,  0.11609034,\n",
              "         0.30451314,  0.44194672,  0.56299197,  0.2729424 , -0.14586088,\n",
              "        -0.14060355,  0.09204095,  0.11404817,  0.03999921],\n",
              "       [-0.24186596, -0.34142279, -0.08492795,  0.22232979, -0.16592262,\n",
              "         0.25961851,  0.08309209, -0.22563992,  0.1348005 , -0.07287789,\n",
              "         0.31495769,  0.55761255, -0.22583534, -0.36183452],\n",
              "       [-0.02654077, -0.34426548,  0.37099067,  0.38905834,  0.47202817,\n",
              "        -0.4297827 ,  0.2880431 ,  0.15638998,  0.15832654, -0.15356542,\n",
              "        -0.06812108,  0.03002948, -0.12030026,  0.09034347],\n",
              "       [ 0.39615068,  0.09956127, -0.03098117,  0.39259755, -0.14222254,\n",
              "         0.10632233, -0.1251103 ,  0.17808813, -0.07314231, -0.33685689,\n",
              "        -0.0071771 ,  0.42573981,  0.4609326 ,  0.29423248]])"
            ]
          },
          "metadata": {},
          "execution_count": 4
        }
      ],
      "source": [
        "# Step 5: Sort Principal Components\n",
        "sorted_indices = np.argsort(eigenvalues)[::-1]  # Sort eigenvalues in descending order\n",
        "sorted_eigenvalues = eigenvalues[sorted_indices]\n",
        "sorted_eigenvectors = eigenvectors[:, sorted_indices]  # Sort eigenvectors accordingly\n",
        "\n",
        "# Calculate explained variance ratio\n",
        "total_variance = np.sum(sorted_eigenvalues)\n",
        "explained_variance_ratio = sorted_eigenvalues / total_variance\n",
        "cumulative_variance = np.cumsum(explained_variance_ratio)\n",
        "\n",
        "print(\"Sorted eigenvalues (descending order):\")\n",
        "for i, val in enumerate(sorted_eigenvalues):\n",
        "    print(f\"PC{i+1}: {val:.6f}\")\n",
        "\n",
        "print(\"\\nExplained variance ratio:\")\n",
        "for i, ratio in enumerate(explained_variance_ratio):\n",
        "    print(f\"PC{i+1}: {ratio:.4f} ({ratio*100:.2f}%)\")\n",
        "\n",
        "print(\"\\nCumulative explained variance:\")\n",
        "for i, cum_ratio in enumerate(cumulative_variance):\n",
        "    print(f\"PC{i+1}: {cum_ratio:.4f} ({cum_ratio*100:.2f}%)\")\n",
        "\n",
        "print(\"\\nSorted eigenvectors (each column is a principal component):\")\n",
        "sorted_eigenvectors"
      ]
    },
    {
      "cell_type": "markdown",
      "metadata": {
        "id": "uxbmuO27r_Kg"
      },
      "source": [
        "### Step 6: Project Data onto Principal Components\n",
        "Now that we’ve selected the number of components, we will project the original data onto the chosen principal components.\n",
        "Fill in the code to perform the projection."
      ]
    },
    {
      "cell_type": "code",
      "execution_count": 5,
      "metadata": {
        "id": "ubjIMAtWr_Kg",
        "colab": {
          "base_uri": "https://localhost:8080/"
        },
        "outputId": "21172a3a-244a-4b94-8e11-5e34881a59ca"
      },
      "outputs": [
        {
          "output_type": "stream",
          "name": "stdout",
          "text": [
            "Number of components to retain 95.0% variance: 3\n",
            "Actual variance retained: 1.0000 (100.00%)\n",
            "\n",
            "Original data shape: (200, 14)\n",
            "Reduced data shape: (200, 3)\n",
            "First 5 rows of reduced data:\n"
          ]
        },
        {
          "output_type": "execute_result",
          "data": {
            "text/plain": [
              "array([[ 0.41580644,  1.21658514,  0.92850969],\n",
              "       [-2.6475884 ,  0.69207359,  1.96289541],\n",
              "       [-3.83753232,  2.22628968,  1.00167452],\n",
              "       [-1.42086588, -0.87091925,  0.67759544],\n",
              "       [-2.22514114, -5.48703808,  0.88627668]])"
            ]
          },
          "metadata": {},
          "execution_count": 5
        }
      ],
      "source": [
        "# Step 6: Project Data onto Principal Components\n",
        "# Select number of components to retain 95% of variance\n",
        "variance_threshold = 0.95\n",
        "num_components = np.argmax(cumulative_variance >= variance_threshold) + 1\n",
        "\n",
        "print(f\"Number of components to retain {variance_threshold*100}% variance: {num_components}\")\n",
        "print(f\"Actual variance retained: {cumulative_variance[num_components-1]:.4f} ({cumulative_variance[num_components-1]*100:.2f}%)\")\n",
        "\n",
        "# Project data onto the principal components\n",
        "selected_eigenvectors = sorted_eigenvectors[:, :num_components]\n",
        "reduced_data = np.dot(standardized_data, selected_eigenvectors)\n",
        "\n",
        "print(f\"\\nOriginal data shape: {standardized_data.shape}\")\n",
        "print(f\"Reduced data shape: {reduced_data.shape}\")\n",
        "print(\"First 5 rows of reduced data:\")\n",
        "reduced_data[:5]"
      ]
    },
    {
      "cell_type": "markdown",
      "metadata": {
        "id": "XVq-b6vtr_Kg"
      },
      "source": [
        "### Step 7: Output the Reduced Data\n",
        "Finally, display the reduced data obtained by projecting the original dataset onto the selected principal components."
      ]
    },
    {
      "cell_type": "code",
      "execution_count": 6,
      "metadata": {
        "id": "5D0uzRyPr_Kg",
        "colab": {
          "base_uri": "https://localhost:8080/"
        },
        "outputId": "4deb48e5-711c-407f-d46f-6a50a53be645"
      },
      "outputs": [
        {
          "output_type": "stream",
          "name": "stdout",
          "text": [
            "Reduced Data Shape: (200, 3)\n",
            "Original dimensions: 14\n",
            "Reduced dimensions: 3\n",
            "Dimensionality reduction: 78.6%\n",
            "Variance preserved: 100.00%\n",
            "\n",
            "First 5 rows of reduced data:\n",
            "(Each row represents a country in the new PCA space)\n",
            "(Columns: PC1, PC2, PC3, ... - ordered by importance)\n"
          ]
        },
        {
          "output_type": "execute_result",
          "data": {
            "text/plain": [
              "array([[ 0.41580644,  1.21658514,  0.92850969],\n",
              "       [-2.6475884 ,  0.69207359,  1.96289541],\n",
              "       [-3.83753232,  2.22628968,  1.00167452],\n",
              "       [-1.42086588, -0.87091925,  0.67759544],\n",
              "       [-2.22514114, -5.48703808,  0.88627668]])"
            ]
          },
          "metadata": {},
          "execution_count": 6
        }
      ],
      "source": [
        "# Step 7: Output the Reduced Data\n",
        "print(f'Reduced Data Shape: {reduced_data.shape}')\n",
        "print(f'Original dimensions: {standardized_data.shape[1]}')\n",
        "print(f'Reduced dimensions: {reduced_data.shape[1]}')\n",
        "print(f'Dimensionality reduction: {((standardized_data.shape[1] - reduced_data.shape[1]) / standardized_data.shape[1]) * 100:.1f}%')\n",
        "print(f'Variance preserved: {cumulative_variance[num_components-1] * 100:.2f}%')\n",
        "\n",
        "print('\\nFirst 5 rows of reduced data:')\n",
        "print('(Each row represents a country in the new PCA space)')\n",
        "print('(Columns: PC1, PC2, PC3, ... - ordered by importance)')\n",
        "reduced_data[:5]"
      ]
    },
    {
      "cell_type": "markdown",
      "metadata": {
        "id": "S1f8ROm5r_Kg"
      },
      "source": [
        "### Step 8: Visualize Before and After PCA\n",
        "Now, let's plot the original data and the data after PCA to compare the reduction in dimensions visually."
      ]
    },
    {
      "cell_type": "code",
      "execution_count": 11,
      "metadata": {
        "id": "WwuppWV-r_Kg",
        "colab": {
          "base_uri": "https://localhost:8080/",
          "height": 721
        },
        "outputId": "8a582097-90e9-40e4-8c41-659605f2ab39"
      },
      "outputs": [
        {
          "output_type": "display_data",
          "data": {
            "text/plain": [
              "<Figure size 1200x500 with 2 Axes>"
            ],
            "image/png": "[encoded data removed]"
          },
          "metadata": {}
        },
        {
          "output_type": "stream",
          "name": "stdout",
          "text": [
            "\n",
            "PCA Analysis Summary:\n",
            "• Original dimensions: 3\n",
            "• Reduced dimensions: 2\n",
            "• Variance retained: 100.00%\n",
            "• PC1 captures 42.97% of total variance\n",
            "• PC2 captures 38.57% of total variance\n",
            "• PC1 variance: 1.1419\n",
            "• PC2 variance: 0.9683\n",
            "• PC1 has higher variance than PC2: True\n",
            "• Data points remain the same: 100 samples\n",
            "• PCA rotated the data to align with maximum variance directions\n"
          ]
        }
      ],
      "source": [
        "# Step 8: Visualize Before and After PCA\n",
        "plt.figure(figsize=(12, 5))\n",
        "\n",
        "# Define feature names for labeling\n",
        "feature_names = [\n",
        "    'GDP_Growth_Rate', 'Inflation_Rate', 'Unemployment_Rate', 'Foreign_Direct_Investment',\n",
        "    'Government_Debt_GDP', 'Trade_Balance', 'Remittances_GDP', 'Agriculture_Contribution',\n",
        "    'Industry_Contribution', 'Services_Contribution', 'Life_Expectancy', 'Literacy_Rate',\n",
        "    'Internet_Penetration', 'Energy_Consumption'\n",
        "]\n",
        "\n",
        "# Plot 1: Original data (first two features)\n",
        "plt.subplot(1, 2, 1)\n",
        "plt.scatter(standardized_data[:, 0], standardized_data[:, 1], alpha=0.6, c='blue')\n",
        "plt.xlabel(f'Feature 1 ({feature_names[0]})')\n",
        "plt.ylabel(f'Feature 2 ({feature_names[1]})')\n",
        "plt.title('Original Data (First 2 Features)')\n",
        "plt.grid(True, alpha=0.3)\n",
        "\n",
        "# Plot 2: Reduced data after PCA (first two principal components)\n",
        "plt.subplot(1, 2, 2)\n",
        "plt.scatter(reduced_data[:, 0], reduced_data[:, 1], alpha=0.6, c='red')\n",
        "plt.xlabel(f'PC1 (Explains {explained_variance_ratio[0]:.2%} variance)')\n",
        "plt.ylabel(f'PC2 (Explains {explained_variance_ratio[1]:.2%} variance)')\n",
        "plt.title('After PCA (First 2 Principal Components)')\n",
        "plt.grid(True, alpha=0.3)\n",
        "\n",
        "plt.tight_layout()\n",
        "plt.show()\n",
        "\n",
        "print(\"\\nPCA Analysis Summary:\")\n",
        "print(f\"• Original dimensions: {standardized_data.shape[1]}\")\n",
        "print(f\"• Reduced dimensions: {reduced_data.shape[1]}\")\n",
        "print(f\"• Variance retained: {cumulative_variance[num_components-1]:.2%}\")\n",
        "print(f\"• PC1 captures {explained_variance_ratio[0]:.2%} of total variance\")\n",
        "print(f\"• PC2 captures {explained_variance_ratio[1]:.2%} of total variance\")\n",
        "print(f\"• PC1 variance: {np.var(reduced_data[:, 0]):.4f}\")\n",
        "print(f\"• PC2 variance: {np.var(reduced_data[:, 1]):.4f}\")\n",
        "print(f\"• PC1 has higher variance than PC2: {np.var(reduced_data[:, 0]) > np.var(reduced_data[:, 1])}\")\n",
        "print(f\"• Data points remain the same: {reduced_data.shape[0]} samples\")\n",
        "print(f\"• PCA rotated the data to align with maximum variance directions\")"
      ]
    }
  ],
  "metadata": {
    "kernelspec": {
      "display_name": "Python 3",
      "name": "python3"
    },
    "language_info": {
      "name": "python",
      "version": "3.8.8"
    },
    "colab": {
      "provenance": []
    }
  },
  "nbformat": 4,
  "nbformat_minor": 0
}